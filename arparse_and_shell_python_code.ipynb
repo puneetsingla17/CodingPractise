{
  "nbformat": 4,
  "nbformat_minor": 0,
  "metadata": {
    "colab": {
      "name": "arparse and shell python_code.ipynb",
      "provenance": [],
      "collapsed_sections": [],
      "authorship_tag": "ABX9TyOVO3FeY7NwmGZhrZWeauKB",
      "include_colab_link": true
    },
    "kernelspec": {
      "name": "python3",
      "display_name": "Python 3"
    }
  },
  "cells": [
    {
      "cell_type": "markdown",
      "metadata": {
        "id": "view-in-github",
        "colab_type": "text"
      },
      "source": [
        "<a href=\"https://colab.research.google.com/github/puneetsingla17/CodingPractise/blob/master/arparse_and_shell_python_code.ipynb\" target=\"_parent\"><img src=\"https://colab.research.google.com/assets/colab-badge.svg\" alt=\"Open In Colab\"/></a>"
      ]
    },
    {
      "cell_type": "code",
      "metadata": {
        "id": "TyhF8vSL5x3d",
        "colab_type": "code",
        "colab": {}
      },
      "source": [
        "import argparse\n",
        "import os\n",
        "import sys\n",
        "\n",
        "# Defining an argument parser\n",
        "parser = argparse.ArgumentParser()\n",
        "parser.add_argument(\"a\",default=0,type=float,help=\"any floating point number\")\n",
        "parser.add_argument(\"b\",default=0,type=float,help=\"any floating point number\")\n",
        "parser.add_argument(\"c\",default=0,type=float,help=\"any floating point number\")\n",
        "\n",
        "args=parser.parse_args()\n",
        "\n",
        "def add(a,b,c):\n",
        "    print(a,\"-\",b,\"-\",c)\n",
        "    return a+b+c\n",
        "\n",
        "if __name__==\"__main__\":\n",
        "    print(args)\n",
        "    print(vars(args))\n",
        "    val=add(*vars(args).values())\n",
        "    print(val)\n",
        "    \n",
        "    "
      ],
      "execution_count": null,
      "outputs": []
    },
    {
      "cell_type": "code",
      "metadata": {
        "id": "QHQ4Xypy6AwS",
        "colab_type": "code",
        "colab": {}
      },
      "source": [
        "import sys\n",
        "\n",
        "def add(a,b,c):\n",
        "    print(sys.argv)\n",
        "    print(a+b+c)\n",
        "    return a+b+c\n",
        "\n",
        "\n",
        "if __name__==\"__main__\":\n",
        "    args=sys.argv\n",
        "    print(args)\n",
        "    add(*args[1:])\n",
        "    "
      ],
      "execution_count": null,
      "outputs": []
    }
  ]
}